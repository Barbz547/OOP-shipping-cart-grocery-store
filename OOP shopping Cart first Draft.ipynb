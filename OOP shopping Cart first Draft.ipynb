{
 "cells": [
  {
   "cell_type": "code",
   "execution_count": 1,
   "metadata": {},
   "outputs": [
    {
     "ename": "AttributeError",
     "evalue": "type object 'ShoppingCart' has no attribute 'show_instructions'",
     "output_type": "error",
     "traceback": [
      "\u001b[1;31m---------------------------------------------------------------------------\u001b[0m",
      "\u001b[1;31mAttributeError\u001b[0m                            Traceback (most recent call last)",
      "\u001b[1;32m<ipython-input-1-e8cf312ef485>\u001b[0m in \u001b[0;36m<module>\u001b[1;34m\u001b[0m\n\u001b[0;32m     67\u001b[0m                         \u001b[0minput\u001b[0m\u001b[1;33m(\u001b[0m\u001b[1;34m'Press any key to continue. '\u001b[0m\u001b[1;33m)\u001b[0m\u001b[1;33m\u001b[0m\u001b[1;33m\u001b[0m\u001b[0m\n\u001b[0;32m     68\u001b[0m \u001b[1;33m\u001b[0m\u001b[0m\n\u001b[1;32m---> 69\u001b[1;33m \u001b[0mShoppingCart\u001b[0m\u001b[1;33m.\u001b[0m\u001b[0mrun\u001b[0m\u001b[1;33m(\u001b[0m\u001b[1;33m)\u001b[0m\u001b[1;33m\u001b[0m\u001b[1;33m\u001b[0m\u001b[0m\n\u001b[0m",
      "\u001b[1;32m<ipython-input-1-e8cf312ef485>\u001b[0m in \u001b[0;36mrun\u001b[1;34m(self)\u001b[0m\n\u001b[0;32m     37\u001b[0m         \u001b[1;32mwhile\u001b[0m \u001b[1;32mnot\u001b[0m \u001b[0mdone\u001b[0m\u001b[1;33m:\u001b[0m\u001b[1;33m\u001b[0m\u001b[1;33m\u001b[0m\u001b[0m\n\u001b[0;32m     38\u001b[0m             \u001b[0mco\u001b[0m\u001b[1;33m(\u001b[0m\u001b[1;33m)\u001b[0m\u001b[1;33m\u001b[0m\u001b[1;33m\u001b[0m\u001b[0m\n\u001b[1;32m---> 39\u001b[1;33m             \u001b[0mself\u001b[0m\u001b[1;33m.\u001b[0m\u001b[0mshow_instructions\u001b[0m\u001b[1;33m(\u001b[0m\u001b[1;33m)\u001b[0m\u001b[1;33m\u001b[0m\u001b[1;33m\u001b[0m\u001b[0m\n\u001b[0m\u001b[0;32m     40\u001b[0m             \u001b[0mcart\u001b[0m\u001b[1;33m.\u001b[0m\u001b[0mshow_items\u001b[0m\u001b[1;33m(\u001b[0m\u001b[1;33m)\u001b[0m\u001b[1;33m\u001b[0m\u001b[1;33m\u001b[0m\u001b[0m\n\u001b[0;32m     41\u001b[0m \u001b[1;33m\u001b[0m\u001b[0m\n",
      "\u001b[1;31mAttributeError\u001b[0m: type object 'ShoppingCart' has no attribute 'show_instructions'"
     ]
    }
   ],
   "source": [
    "from IPython.display import clear_output as co\n",
    "\n",
    "class Cart:\n",
    "    def __inint__(self):\n",
    "        self.list =[]\n",
    "        \n",
    "    def add_item(self, item):\n",
    "        self.list.append(item)\n",
    "        \n",
    "    def remove_item(self):\n",
    "        pass\n",
    "    \n",
    "    def show_items(self):\n",
    "        print(self.list)\n",
    "    \n",
    "    def clear_items(self):\n",
    "        pass\n",
    "    \n",
    "class Item:\n",
    "    def __init__(self, name, price):\n",
    "        self.name = name\n",
    "        self.price = price\n",
    "        \n",
    "class ShoppingCart:\n",
    "    def show_insructions():\n",
    "        print(\"\"\"Type 'add' to add items to your cart.\n",
    "Type 'remove' to remove an item from your cart.\n",
    "Type 'clear' to remove all items from your cart.\n",
    "Type'show\" show all the items in your cart.\n",
    "Type 'quit' to exit the program.\"\"\")\n",
    "        \n",
    "    @classmethod\n",
    "    def run(self):\n",
    "        cart = Cart()\n",
    "            \n",
    "        done = False\n",
    "        while not done:\n",
    "            co()\n",
    "            self.show_instructions()\n",
    "            cart.show_items()\n",
    "                \n",
    "            ask = input(\"What would youlike to do? \").lower()\n",
    "                \n",
    "            if ask =='add':\n",
    "                item_name = input(\"What item would you like to add?\")\n",
    "                item_price = float(input(\"How much does the item cost?\"))\n",
    "                cart_item = Item(item_name, item_price)\n",
    "                cart.add_item(cart_item)\n",
    "            elif ask == 'remove':\n",
    "                cart_item= input(\"What item would you like to remove?\")\n",
    "            elif ask == 'clear':\n",
    "                pass\n",
    "            elif ask == 'show':\n",
    "                pass\n",
    "            elif ask == 'quit':\n",
    "                confirmed = False\n",
    "\n",
    "                while not confirmed:\n",
    "                    confirm = input(\"Are you sure? Y/N\").lower()\n",
    "                    if confirm == 'y':\n",
    "                        done= True\n",
    "                        confirmed = True\n",
    "                    elif confirm == 'n':\n",
    "                        break\n",
    "                    else:\n",
    "                        print('Invalid comman. Try again. ')\n",
    "                        input('Press any key to continue. ')\n",
    "                            \n",
    "ShoppingCart.run()"
   ]
  },
  {
   "cell_type": "code",
   "execution_count": null,
   "metadata": {},
   "outputs": [],
   "source": []
  },
  {
   "cell_type": "code",
   "execution_count": null,
   "metadata": {},
   "outputs": [],
   "source": []
  }
 ],
 "metadata": {
  "kernelspec": {
   "display_name": "Python 3",
   "language": "python",
   "name": "python3"
  },
  "language_info": {
   "codemirror_mode": {
    "name": "ipython",
    "version": 3
   },
   "file_extension": ".py",
   "mimetype": "text/x-python",
   "name": "python",
   "nbconvert_exporter": "python",
   "pygments_lexer": "ipython3",
   "version": "3.8.5"
  }
 },
 "nbformat": 4,
 "nbformat_minor": 4
}
